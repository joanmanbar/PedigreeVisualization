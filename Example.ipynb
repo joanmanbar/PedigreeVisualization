{
 "cells": [
  {
   "cell_type": "markdown",
   "id": "1b3c8208-d84b-460e-8a1c-7b993d104932",
   "metadata": {},
   "source": [
    "# Example for PedigreeVisualization\n",
    "Repository: https://github.com/joanmanbar/PedigreeVisualization \\\n",
    "Created by Joan Barreto \\\n",
    "email: jbarreto@umn.edu"
   ]
  },
  {
   "cell_type": "markdown",
   "id": "8f1e7365-9701-48f7-8c19-0f869fac6a87",
   "metadata": {},
   "source": [
    "# Imports/Settings"
   ]
  },
  {
   "cell_type": "code",
   "execution_count": null,
   "id": "f91812c2-14a7-4e16-a65c-9747dcad2470",
   "metadata": {},
   "outputs": [],
   "source": [
    "!git clone https://github.com/joanmanbar/PedigreeVisualization.git"
   ]
  },
  {
   "cell_type": "code",
   "execution_count": 2,
   "id": "7ad1169b-f658-4792-a7ca-6b79569b1517",
   "metadata": {},
   "outputs": [],
   "source": [
    "import pandas as pd\n",
    "import numpy as np\n",
    "import re\n",
    "import matplotlib.pyplot as plt\n",
    "import sys\n",
    "sys.path.insert(0,'/content/PedigreeVisualization')"
   ]
  },
  {
   "cell_type": "code",
   "execution_count": 3,
   "id": "a4dc29f5-ada7-4014-af59-dff9c21cb0c7",
   "metadata": {},
   "outputs": [],
   "source": [
    "# Make sure Jupyter Notebook shows all outputs from the same cell\n",
    "from IPython.core.interactiveshell import InteractiveShell\n",
    "InteractiveShell.ast_node_interactivity = \"all\"\n",
    "\n",
    "# Set max number of rows to visualize\n",
    "pd.set_option('display.max_rows', 10)\n",
    "\n",
    "# plt.rcParams['figure.figsize'] = [12, 8]\n",
    "plt.rcParams['figure.dpi'] = 80 "
   ]
  },
  {
   "cell_type": "code",
   "execution_count": 4,
   "id": "eefa3add-5576-44ee-99b7-c7b3fc0f7986",
   "metadata": {},
   "outputs": [],
   "source": [
    "# List of 100 custom parent names\n",
    "P100 = [ \"P0\" + str(int(s)+1) for s in range(9)]\n",
    "P100 = P100 + [ \"P\" + str(int(s)+1) for s in range(9,99)]\n",
    "# P100"
   ]
  },
  {
   "cell_type": "markdown",
   "id": "535134e3-5cd2-4648-a740-3eb286ca2831",
   "metadata": {},
   "source": [
    "# Execution"
   ]
  },
  {
   "cell_type": "markdown",
   "id": "93954cca-c126-4ef9-8da8-c4295b2820bc",
   "metadata": {},
   "source": [
    "## Read file with pedigree data"
   ]
  },
  {
   "cell_type": "code",
   "execution_count": 5,
   "id": "b08ea39e-7544-4b69-8554-d6e701347c82",
   "metadata": {},
   "outputs": [],
   "source": [
    "url = 'https://github.com/joanmanbar/PedigreeVisualization/blob/main/Pedigree599.csv'\n",
    "Pedigree_data = pd.read_csv(url)\n",
    "# Subset variables of interest\n",
    "P = Pedigree_data.loc[:,['GID','Pedigree','Specific Name']]\n",
    "# Fill None with nan\n",
    "P = P.fillna(value=np.nan)"
   ]
  },
  {
   "cell_type": "markdown",
   "id": "deba04b9-83f1-4dc6-b430-aee4cbcfbf89",
   "metadata": {},
   "source": [
    "## Select a depigree of interest"
   ]
  },
  {
   "cell_type": "code",
   "execution_count": null,
   "id": "80b1f065-132a-407d-8e33-14a66c756710",
   "metadata": {},
   "outputs": [],
   "source": [
    "pedigree = P['Pedigree'][8]"
   ]
  },
  {
   "cell_type": "markdown",
   "id": "e8c41bf3-3744-4c5b-bc16-56e0791fa46a",
   "metadata": {},
   "source": [
    "## Visualize ancestral contributions"
   ]
  },
  {
   "cell_type": "code",
   "execution_count": null,
   "id": "2c4c171b-19f6-48f6-9a82-218e9d527099",
   "metadata": {},
   "outputs": [],
   "source": [
    "PedigreeVis(AnCon(pedigree, R=1, SimplifyPed=False), Log=False)"
   ]
  },
  {
   "cell_type": "code",
   "execution_count": null,
   "id": "a477b2a5-a3f9-4bee-abdc-f0669cb3d559",
   "metadata": {},
   "outputs": [],
   "source": []
  }
 ],
 "metadata": {
  "kernelspec": {
   "display_name": "Python 3",
   "language": "python",
   "name": "python3"
  },
  "language_info": {
   "codemirror_mode": {
    "name": "ipython",
    "version": 3
   },
   "file_extension": ".py",
   "mimetype": "text/x-python",
   "name": "python",
   "nbconvert_exporter": "python",
   "pygments_lexer": "ipython3",
   "version": "3.8.8"
  },
  "toc-autonumbering": false,
  "toc-showcode": false
 },
 "nbformat": 4,
 "nbformat_minor": 5
}

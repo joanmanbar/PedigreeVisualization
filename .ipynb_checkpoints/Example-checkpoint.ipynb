{
 "cells": [
  {
   "cell_type": "markdown",
   "id": "1b3c8208-d84b-460e-8a1c-7b993d104932",
   "metadata": {},
   "source": [
    "# Example for PedigreeVisualization\n",
    "Repository: https://github.com/joanmanbar/PedigreeVisualization \\\n",
    "Created by Joan Barreto \\\n",
    "email: jbarreto@umn.edu"
   ]
  },
  {
   "cell_type": "markdown",
   "id": "8f1e7365-9701-48f7-8c19-0f869fac6a87",
   "metadata": {
    "tags": []
   },
   "source": [
    "# 1. Imports/Settings"
   ]
  },
  {
   "cell_type": "code",
   "execution_count": 73,
   "id": "f91812c2-14a7-4e16-a65c-9747dcad2470",
   "metadata": {
    "jupyter": {
     "source_hidden": true
    },
    "tags": []
   },
   "outputs": [],
   "source": [
    "!git clone https://github.com/joanmanbar/PedigreeVisualization.git"
   ]
  },
  {
   "cell_type": "code",
   "execution_count": 69,
   "id": "c5605dcc-c893-432d-9827-b000d0bc591e",
   "metadata": {
    "jupyter": {
     "source_hidden": true
    },
    "tags": []
   },
   "outputs": [],
   "source": [
    "import sys\n",
    "sys.path.insert(0,'/content/PedigreeVisualization')\n",
    "sys.path.append('/content/PedigreeVisualization')"
   ]
  },
  {
   "cell_type": "code",
   "execution_count": 110,
   "id": "7ad1169b-f658-4792-a7ca-6b79569b1517",
   "metadata": {
    "jupyter": {
     "source_hidden": true
    },
    "tags": []
   },
   "outputs": [],
   "source": [
    "from PedigreeVisualization import *\n",
    "import pandas as pd\n",
    "import numpy as np\n",
    "import re\n",
    "import matplotlib.pyplot as plt"
   ]
  },
  {
   "cell_type": "code",
   "execution_count": 71,
   "id": "a4dc29f5-ada7-4014-af59-dff9c21cb0c7",
   "metadata": {
    "jupyter": {
     "source_hidden": true
    },
    "tags": []
   },
   "outputs": [],
   "source": [
    "# Make sure Jupyter Notebook shows all outputs from the same cell\n",
    "from IPython.core.interactiveshell import InteractiveShell\n",
    "InteractiveShell.ast_node_interactivity = \"all\"\n",
    "\n",
    "# Set max number of rows to visualize\n",
    "pd.set_option('display.max_rows', 10)\n",
    "\n",
    "# plt.rcParams['figure.figsize'] = [12, 8]\n",
    "plt.rcParams['figure.dpi'] = 80 "
   ]
  },
  {
   "cell_type": "code",
   "execution_count": 72,
   "id": "eefa3add-5576-44ee-99b7-c7b3fc0f7986",
   "metadata": {
    "jupyter": {
     "source_hidden": true
    },
    "tags": []
   },
   "outputs": [],
   "source": [
    "# List of 100 custom parent names\n",
    "P100 = [ \"P0\" + str(int(s)+1) for s in range(9)]\n",
    "P100 = P100 + [ \"P\" + str(int(s)+1) for s in range(9,99)]\n",
    "# P100"
   ]
  },
  {
   "cell_type": "markdown",
   "id": "93954cca-c126-4ef9-8da8-c4295b2820bc",
   "metadata": {},
   "source": [
    "# 2. (OPTIONAL) Load file `P` with pedigree data"
   ]
  },
  {
   "cell_type": "code",
   "execution_count": 111,
   "id": "b08ea39e-7544-4b69-8554-d6e701347c82",
   "metadata": {},
   "outputs": [
    {
     "data": {
      "text/html": [
       "<div>\n",
       "<style scoped>\n",
       "    .dataframe tbody tr th:only-of-type {\n",
       "        vertical-align: middle;\n",
       "    }\n",
       "\n",
       "    .dataframe tbody tr th {\n",
       "        vertical-align: top;\n",
       "    }\n",
       "\n",
       "    .dataframe thead th {\n",
       "        text-align: right;\n",
       "    }\n",
       "</style>\n",
       "<table border=\"1\" class=\"dataframe\">\n",
       "  <thead>\n",
       "    <tr style=\"text-align: right;\">\n",
       "      <th></th>\n",
       "      <th>GID</th>\n",
       "      <th>Pedigree</th>\n",
       "      <th>Specific Name</th>\n",
       "    </tr>\n",
       "  </thead>\n",
       "  <tbody>\n",
       "    <tr>\n",
       "      <th>0</th>\n",
       "      <td>775</td>\n",
       "      <td>PENJAMO T 62/GABO 55</td>\n",
       "      <td>SIETE CERROS T66</td>\n",
       "    </tr>\n",
       "    <tr>\n",
       "      <th>1</th>\n",
       "      <td>2167</td>\n",
       "      <td>AGATHA/3*YECORA F 70</td>\n",
       "      <td>OASIS F 86</td>\n",
       "    </tr>\n",
       "    <tr>\n",
       "      <th>2</th>\n",
       "      <td>2465</td>\n",
       "      <td>VICAM S 71//CIANO F 67/SIETE CERROS T66/3/KALY...</td>\n",
       "      <td>PAVON F 76</td>\n",
       "    </tr>\n",
       "    <tr>\n",
       "      <th>3</th>\n",
       "      <td>3881</td>\n",
       "      <td>TEZANOS PINTOS PRECOZ/PALOMA//SIETE CERROS T66</td>\n",
       "      <td>NACOZARI F 76</td>\n",
       "    </tr>\n",
       "    <tr>\n",
       "      <th>4</th>\n",
       "      <td>3895</td>\n",
       "      <td>KAVKAZ/BUHO//KALYANSONA/BLUEBIRD</td>\n",
       "      <td>SERI M 82</td>\n",
       "    </tr>\n",
       "    <tr>\n",
       "      <th>...</th>\n",
       "      <td>...</td>\n",
       "      <td>...</td>\n",
       "      <td>...</td>\n",
       "    </tr>\n",
       "    <tr>\n",
       "      <th>57</th>\n",
       "      <td>422381</td>\n",
       "      <td>HOPPS/ROBIN-M//KALYANSONA</td>\n",
       "      <td>HUASTECO M 81</td>\n",
       "    </tr>\n",
       "    <tr>\n",
       "      <th>58</th>\n",
       "      <td>447647</td>\n",
       "      <td>BOBWHITE/NACOZARI F 76//VEERY/3/BLUEJAY/COCORA...</td>\n",
       "      <td>BAVIACORA M 92</td>\n",
       "    </tr>\n",
       "    <tr>\n",
       "      <th>59</th>\n",
       "      <td>835884</td>\n",
       "      <td>ALUBUC/BUCKBUCK//PARULA/VEERY #6</td>\n",
       "      <td>TOROCAHUI S2004</td>\n",
       "    </tr>\n",
       "    <tr>\n",
       "      <th>60</th>\n",
       "      <td>2430154</td>\n",
       "      <td>NORD DEPREZ/VG9144//KALYANSONA/BLUEBIRD/3/YACO...</td>\n",
       "      <td>PBW343</td>\n",
       "    </tr>\n",
       "    <tr>\n",
       "      <th>61</th>\n",
       "      <td>2450184</td>\n",
       "      <td>OPATA M 85/WEAVER</td>\n",
       "      <td>OPALA-INIA</td>\n",
       "    </tr>\n",
       "  </tbody>\n",
       "</table>\n",
       "<p>62 rows × 3 columns</p>\n",
       "</div>"
      ],
      "text/plain": [
       "        GID                                           Pedigree  \\\n",
       "0       775                               PENJAMO T 62/GABO 55   \n",
       "1      2167                               AGATHA/3*YECORA F 70   \n",
       "2      2465  VICAM S 71//CIANO F 67/SIETE CERROS T66/3/KALY...   \n",
       "3      3881     TEZANOS PINTOS PRECOZ/PALOMA//SIETE CERROS T66   \n",
       "4      3895                   KAVKAZ/BUHO//KALYANSONA/BLUEBIRD   \n",
       "..      ...                                                ...   \n",
       "57   422381                          HOPPS/ROBIN-M//KALYANSONA   \n",
       "58   447647  BOBWHITE/NACOZARI F 76//VEERY/3/BLUEJAY/COCORA...   \n",
       "59   835884                   ALUBUC/BUCKBUCK//PARULA/VEERY #6   \n",
       "60  2430154  NORD DEPREZ/VG9144//KALYANSONA/BLUEBIRD/3/YACO...   \n",
       "61  2450184                                  OPATA M 85/WEAVER   \n",
       "\n",
       "       Specific Name  \n",
       "0   SIETE CERROS T66  \n",
       "1         OASIS F 86  \n",
       "2         PAVON F 76  \n",
       "3      NACOZARI F 76  \n",
       "4          SERI M 82  \n",
       "..               ...  \n",
       "57     HUASTECO M 81  \n",
       "58    BAVIACORA M 92  \n",
       "59   TOROCAHUI S2004  \n",
       "60            PBW343  \n",
       "61        OPALA-INIA  \n",
       "\n",
       "[62 rows x 3 columns]"
      ]
     },
     "execution_count": 111,
     "metadata": {},
     "output_type": "execute_result"
    }
   ],
   "source": [
    "url = 'https://raw.githubusercontent.com/joanmanbar/PedigreeVisualization/main/Pedigree599_UTF.csv'\n",
    "Pedigree_data = pd.read_csv(url, encoding = 'utf_8')\n",
    "# Subset variables of interest\n",
    "P = Pedigree_data.loc[:,['GID','Pedigree','Specific Name']]\n",
    "# Fill None with nan\n",
    "P = P.fillna(value=np.nan)\n",
    "P = P.dropna().reset_index(drop=True)\n",
    "P"
   ]
  },
  {
   "cell_type": "markdown",
   "id": "deba04b9-83f1-4dc6-b430-aee4cbcfbf89",
   "metadata": {},
   "source": [
    "# 3. Select and visualize pedigree of interest\n",
    "\n",
    "**Option 1: Entering a pedigree:** \\\n",
    "Add a pedigree in quotation marks to the variable `pedigree = ` and run the cell. \\\n",
    "Example 1:\n",
    "`pedigree = 'A/*2B//C'` \\\n",
    "Example 2:\n",
    "`pedigree = 'D/3/C//A/*2B/4/C/'`\n",
    "\n",
    "\n",
    "or\n",
    "\n",
    "**Option 2: Selecting a pedigree from the sample file `P` :** \\\n",
    "Choose a number between 0 and 599 and add it in square backets after the variable `pedigree = P[Pedigree]`. \\\n",
    "You can find the complete file in this link: https://github.com/joanmanbar/PedigreeVisualization/blob/main/Pedigree599_UTF.csv\n",
    "Example 1:\n",
    "`pedigree = P['Pedigree'][599]` \\\n",
    "Example 2:\n",
    "`pedigree = P['Pedigree'][9]`"
   ]
  },
  {
   "cell_type": "code",
   "execution_count": 109,
   "id": "2c4c171b-19f6-48f6-9a82-218e9d527099",
   "metadata": {},
   "outputs": [
    {
     "name": "stdout",
     "output_type": "stream",
     "text": [
      "Sum of contributions =  1.0\n",
      "A/B//C*2\n"
     ]
    },
    {
     "data": {
      "image/png": "[encoded data removed]",
      "text/plain": [
       "<Figure size 720x504 with 1 Axes>"
      ]
     },
     "metadata": {},
     "output_type": "display_data"
    }
   ],
   "source": [
    "# Add a value in between quotation marks\n",
    "pedigree = 'A/*2B'\n",
    "\n",
    "PedigreeVis(AnCon(pedigree, R=1, SimplifyPed=False), Log=False)"
   ]
  }
 ],
 "metadata": {
  "kernelspec": {
   "display_name": "Python 3",
   "language": "python",
   "name": "python3"
  },
  "language_info": {
   "codemirror_mode": {
    "name": "ipython",
    "version": 3
   },
   "file_extension": ".py",
   "mimetype": "text/x-python",
   "name": "python",
   "nbconvert_exporter": "python",
   "pygments_lexer": "ipython3",
   "version": "3.8.8"
  },
  "toc-autonumbering": false,
  "toc-showcode": false
 },
 "nbformat": 4,
 "nbformat_minor": 5
}
